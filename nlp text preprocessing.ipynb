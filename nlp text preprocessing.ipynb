{
 "cells": [
  {
   "source": [
    "# Data prepocessing"
   ],
   "cell_type": "markdown",
   "metadata": {}
  },
  {
   "source": [
    "## Tokenize words using tensorflow's tools"
   ],
   "cell_type": "markdown",
   "metadata": {}
  },
  {
   "cell_type": "code",
   "execution_count": 24,
   "id": "7f7ecf4c-fc5f-4678-98e5-43a74540315b",
   "metadata": {},
   "outputs": [],
   "source": [
    "import tensorflow as tf\n",
    "from tensorflow import keras\n",
    "from tensorflow.keras.preprocessing.text import Tokenizer"
   ]
  },
  {
   "cell_type": "code",
   "execution_count": 25,
   "id": "be93d826-2c52-49e2-ab6e-a74766254e5d",
   "metadata": {},
   "outputs": [],
   "source": [
    "sentences = [\n",
    "    'I love my dog',\n",
    "    'I love my cat',\n",
    "    'Do you think my dog is amazing ?'\n",
    "]"
   ]
  },
  {
   "cell_type": "code",
   "execution_count": 26,
   "id": "9881bb11-118d-4d4b-8dd4-c573fb3a4e2f",
   "metadata": {},
   "outputs": [
    {
     "output_type": "stream",
     "name": "stdout",
     "text": [
      "{'my': 1, 'i': 2, 'love': 3, 'dog': 4, 'cat': 5, 'do': 6, 'you': 7, 'think': 8, 'is': 9, 'amazing': 10}\n"
     ]
    }
   ],
   "source": [
    "tokenizer = Tokenizer(num_words=100)\n",
    "tokenizer.fit_on_texts(sentences)\n",
    "word_index = tokenizer.word_index\n",
    "\n",
    "print(word_index)"
   ]
  },
  {
   "source": [
    "## Sequencing - Turning sentences into data"
   ],
   "cell_type": "markdown",
   "metadata": {}
  },
  {
   "cell_type": "code",
   "execution_count": 27,
   "metadata": {},
   "outputs": [
    {
     "output_type": "stream",
     "name": "stdout",
     "text": [
      "[[2, 3, 1, 4], [2, 3, 1, 5], [6, 7, 8, 1, 4, 9, 10]]\n"
     ]
    }
   ],
   "source": [
    "sequences = tokenizer.texts_to_sequences(sentences)\n",
    "print(sequences)"
   ]
  },
  {
   "source": [
    "test_data = [ # contains some new words to tokenizer\n",
    "    'I really love my dog',\n",
    "    'My dog likes my manatee'\n",
    "]\n",
    "test_seq = tokenizer.texts_to_sequences(test_data)\n",
    "\n",
    "print(test_seq)"
   ],
   "cell_type": "code",
   "metadata": {},
   "execution_count": 28,
   "outputs": [
    {
     "output_type": "stream",
     "name": "stdout",
     "text": [
      "[[2, 3, 1, 4], [1, 4, 1]]\n"
     ]
    }
   ]
  },
  {
   "source": [
    "### Using an Out Of Vocabulary token in order to not to lose the length of the sequence"
   ],
   "cell_type": "markdown",
   "metadata": {}
  },
  {
   "cell_type": "code",
   "execution_count": 29,
   "metadata": {},
   "outputs": [
    {
     "output_type": "stream",
     "name": "stdout",
     "text": [
      "None\n[[3, 1, 4, 2, 5], [2, 5, 1, 2, 1]]\n"
     ]
    }
   ],
   "source": [
    "tokenizer = Tokenizer(num_words=100, oov_token='<OOV>')\n",
    "word_index = tokenizer.fit_on_texts(sentences)\n",
    "test_seq = tokenizer.texts_to_sequences(test_data)\n",
    "\n",
    "print(word_index)\n",
    "print(test_seq)"
   ]
  },
  {
   "source": [
    "### Redefining data, make all sequences in an equal length"
   ],
   "cell_type": "markdown",
   "metadata": {}
  },
  {
   "source": [
    "#### There is an advanced solution called \"Ragged Tensor\", I will keep it for later. For now we will use padding"
   ],
   "cell_type": "markdown",
   "metadata": {}
  },
  {
   "cell_type": "code",
   "execution_count": 30,
   "metadata": {},
   "outputs": [],
   "source": [
    "from tensorflow.keras.preprocessing.sequence import pad_sequences"
   ]
  },
  {
   "cell_type": "code",
   "execution_count": 31,
   "metadata": {},
   "outputs": [
    {
     "output_type": "stream",
     "name": "stdout",
     "text": [
      "[[ 0  0  0  2  3  1  4]\n [ 0  0  0  2  3  1  5]\n [ 6  7  8  1  4  9 10]]\n"
     ]
    }
   ],
   "source": [
    "padded = pad_sequences(sequences) # params :: padding='pre/post', truncate='pre/post', maxlen=int\n",
    "print(padded)"
   ]
  }
 ],
 "metadata": {
  "kernelspec": {
   "name": "python3",
   "display_name": "Python 3.8.8 64-bit ('base': conda)"
  },
  "language_info": {
   "codemirror_mode": {
    "name": "ipython",
    "version": 3
   },
   "file_extension": ".py",
   "mimetype": "text/x-python",
   "name": "python",
   "nbconvert_exporter": "python",
   "pygments_lexer": "ipython3",
   "version": "3.8.8"
  },
  "interpreter": {
   "hash": "f23c6c57bbf4ffef0341d0b746347116db6be81ca5fa35732928a0b4adec9f7b"
  }
 },
 "nbformat": 4,
 "nbformat_minor": 5
}