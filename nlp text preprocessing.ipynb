{
 "cells": [
  {
   "source": [
    "# Data prepocessing"
   ],
   "cell_type": "markdown",
   "metadata": {}
  },
  {
   "source": [
    "## Tokenize words using tensorflow's tools"
   ],
   "cell_type": "markdown",
   "metadata": {}
  },
  {
   "cell_type": "code",
   "execution_count": null,
   "id": "7f7ecf4c-fc5f-4678-98e5-43a74540315b",
   "metadata": {},
   "outputs": [],
   "source": [
    "import tensorflow as tf\n",
    "from tensorflow import keras\n",
    "from tensorflow.keras.preprocessing.text import Tokenizer"
   ]
  },
  {
   "cell_type": "code",
   "execution_count": null,
   "id": "be93d826-2c52-49e2-ab6e-a74766254e5d",
   "metadata": {},
   "outputs": [],
   "source": [
    "sentences = [\n",
    "    'I love my dog',\n",
    "    'I love my cat',\n",
    "    'Do you think my dog is amazing ?'\n",
    "]"
   ]
  },
  {
   "cell_type": "code",
   "execution_count": null,
   "id": "9881bb11-118d-4d4b-8dd4-c573fb3a4e2f",
   "metadata": {},
   "outputs": [],
   "source": [
    "tokenizer = Tokenizer(num_words=100)\n",
    "tokenizer.fit_on_texts(sentences)\n",
    "word_index = tokenizer.word_index\n",
    "\n",
    "print(word_index)"
   ]
  },
  {
   "source": [
    "## Sequencing - Turning sentences into data"
   ],
   "cell_type": "markdown",
   "metadata": {}
  },
  {
   "cell_type": "code",
   "execution_count": null,
   "metadata": {},
   "outputs": [],
   "source": [
    "sequences = tokenizer.texts_to_sequences(sentences)\n",
    "print(sequences)"
   ]
  },
  {
   "source": [
    "test_data = [ # contains some new words to tokenizer\n",
    "    'I really love my dog',\n",
    "    'My dog likes my manatee'\n",
    "]\n",
    "test_seq = tokenizer.texts_to_sequences(test_data)\n",
    "\n",
    "print(test_seq)"
   ],
   "cell_type": "code",
   "metadata": {},
   "execution_count": null,
   "outputs": []
  },
  {
   "source": [
    "### Using an Out Of Vocabulary token in order to not to lose the length of the sequence"
   ],
   "cell_type": "markdown",
   "metadata": {}
  },
  {
   "cell_type": "code",
   "execution_count": null,
   "metadata": {},
   "outputs": [],
   "source": [
    "tokenizer = Tokenizer(num_words=100, oov_token='<OOV>')\n",
    "word_index = tokenizer.fit_on_texts(sentences)\n",
    "test_seq = tokenizer.texts_to_sequences(test_data)\n",
    "\n",
    "print(word_index)\n",
    "print(test_seq)"
   ]
  },
  {
   "source": [
    "### Redefining data, make all sequences in an equal length"
   ],
   "cell_type": "markdown",
   "metadata": {}
  },
  {
   "source": [
    "#### There is an advanced solution called \"Ragged Tensor\", I will keep it for later. For now we will use padding"
   ],
   "cell_type": "markdown",
   "metadata": {}
  },
  {
   "cell_type": "code",
   "execution_count": null,
   "metadata": {},
   "outputs": [],
   "source": [
    "from tensorflow.keras.preprocessing.sequence import pad_sequences"
   ]
  },
  {
   "cell_type": "code",
   "execution_count": null,
   "metadata": {},
   "outputs": [],
   "source": [
    "padded = pad_sequences(sequences) # params :: padding='pre/post', truncate='pre/post', maxlen=int\n",
    "print(padded)"
   ]
  }
 ],
 "metadata": {
  "kernelspec": {
   "name": "python3",
   "display_name": "Python 3.8.8 64-bit ('base': conda)"
  },
  "language_info": {
   "codemirror_mode": {
    "name": "ipython",
    "version": 3
   },
   "file_extension": ".py",
   "mimetype": "text/x-python",
   "name": "python",
   "nbconvert_exporter": "python",
   "pygments_lexer": "ipython3",
   "version": "3.8.8"
  },
  "interpreter": {
   "hash": "f23c6c57bbf4ffef0341d0b746347116db6be81ca5fa35732928a0b4adec9f7b"
  }
 },
 "nbformat": 4,
 "nbformat_minor": 5
}